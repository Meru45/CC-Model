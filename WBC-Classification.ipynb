{
 "cells": [
  {
   "cell_type": "code",
   "execution_count": 4,
   "metadata": {},
   "outputs": [],
   "source": [
    "train_eosinophil_path = './TRAIN/EOSINOPHIL' #2497\n",
    "train_lymphocyte_path = './TRAIN/LYMPHOCYTE' #2483\n",
    "train_monocyte_path = './TRAIN/MONOCYTE' #2478\n",
    "train_neutrophil_path = './TRAIN/NEUTROPHIL' #2499\n",
    "\n",
    "import os\n",
    "import matplotlib.pyplot as plt\n",
    "import numpy as np\n",
    "\n",
    "train_eosinophil = []\n",
    "train_lymphocyte = []\n",
    "train_monocyte = []\n",
    "train_neutrophil = []\n",
    "\n",
    "for file in os.listdir(train_eosinophil_path)[:500]:\n",
    "    train_eosinophil.append(plt.imread(train_eosinophil_path + '/' + file))\n",
    "train_eosinophil = np.array(train_eosinophil)\n",
    "\n",
    "for file in os.listdir(train_lymphocyte_path)[:500]:\n",
    "    train_lymphocyte.append(plt.imread(train_lymphocyte_path + '/' + file))\n",
    "train_lymphocyte = np.array(train_lymphocyte)\n",
    "\n",
    "for file in os.listdir(train_monocyte_path)[:500]:\n",
    "    train_monocyte.append(plt.imread(train_monocyte_path + '/' + file))\n",
    "train_monocyte = np.array(train_monocyte)\n",
    "\n",
    "for file in os.listdir(train_neutrophil_path)[:500]:\n",
    "    train_neutrophil.append(plt.imread(train_neutrophil_path + '/' + file))\n",
    "train_neutrophil = np.array(train_neutrophil)\n"
   ]
  },
  {
   "cell_type": "code",
   "execution_count": 5,
   "metadata": {},
   "outputs": [
    {
     "data": {
      "text/plain": [
       "((500, 240, 320, 3),\n",
       " (500, 240, 320, 3),\n",
       " (500, 240, 320, 3),\n",
       " (500, 240, 320, 3))"
      ]
     },
     "execution_count": 5,
     "metadata": {},
     "output_type": "execute_result"
    }
   ],
   "source": [
    "train_eosinophil.shape, train_lymphocyte.shape, train_monocyte.shape, train_neutrophil.shape"
   ]
  },
  {
   "cell_type": "code",
   "execution_count": 6,
   "metadata": {},
   "outputs": [
    {
     "data": {
      "text/plain": [
       "(2000, 1)"
      ]
     },
     "execution_count": 6,
     "metadata": {},
     "output_type": "execute_result"
    }
   ],
   "source": [
    "train_y = np.random.rand(500+500+500+500, 1)\n",
    "train_y.fill(0)\n",
    "train_y[0:500, 0] = 0\n",
    "train_y[500:500+500, 0] = 1\n",
    "train_y[500+500:500+500+500, 0] = 2\n",
    "train_y[500+500+500:500+500+500+500, 0] = 3\n",
    "train_y.shape"
   ]
  },
  {
   "cell_type": "code",
   "execution_count": 7,
   "metadata": {},
   "outputs": [
    {
     "data": {
      "text/plain": [
       "(2000, 240, 320, 3)"
      ]
     },
     "execution_count": 7,
     "metadata": {},
     "output_type": "execute_result"
    }
   ],
   "source": [
    "empty = []\n",
    "empty.extend(train_eosinophil)\n",
    "empty.extend(train_lymphocyte)\n",
    "empty.extend(train_monocyte)\n",
    "empty.extend(train_neutrophil)\n",
    "train_X = np.array(empty)\n",
    "train_X.shape"
   ]
  },
  {
   "cell_type": "code",
   "execution_count": 8,
   "metadata": {},
   "outputs": [],
   "source": [
    "train_X_reshaped = train_X.reshape((2000, 240*320*3))"
   ]
  },
  {
   "cell_type": "code",
   "execution_count": 9,
   "metadata": {},
   "outputs": [],
   "source": [
    "from xgboost import XGBClassifier\n",
    "# read data\n",
    "from sklearn.model_selection import train_test_split\n",
    "X_train, X_test, y_train, y_test = train_test_split(train_X_reshaped, train_y, test_size=.2)\n",
    "# create model instance\n",
    "bst = XGBClassifier(n_estimators=3, max_depth=3, learning_rate=1)"
   ]
  },
  {
   "cell_type": "code",
   "execution_count": null,
   "metadata": {},
   "outputs": [],
   "source": [
    "# fit model\n",
    "bst.fit(X_train[:1000], y_train[:1000])\n",
    "preds = bst.predict(X_test[:100])"
   ]
  },
  {
   "cell_type": "code",
   "execution_count": null,
   "metadata": {},
   "outputs": [],
   "source": [
    "boola = preds.astype(np.float64) == y_test[:100].reshape(1, 100)\n",
    "boola.sum()"
   ]
  },
  {
   "cell_type": "code",
   "execution_count": 2,
   "metadata": {},
   "outputs": [],
   "source": [
    "import pickle\n",
    "file_name = \"xgb_reg.pkl\""
   ]
  },
  {
   "cell_type": "code",
   "execution_count": null,
   "metadata": {},
   "outputs": [],
   "source": [
    "# save\n",
    "pickle.dump(bst, open(file_name, \"wb\"))"
   ]
  },
  {
   "cell_type": "code",
   "execution_count": 10,
   "metadata": {},
   "outputs": [
    {
     "data": {
      "text/plain": [
       "array([1, 1, 2, 3, 2, 3, 2, 0, 2, 0, 0, 0, 1, 3, 0, 3, 0, 1, 1, 1])"
      ]
     },
     "execution_count": 10,
     "metadata": {},
     "output_type": "execute_result"
    }
   ],
   "source": [
    "# load\n",
    "xgb_model_loaded = pickle.load(open(file_name, \"rb\"))\n",
    "\n",
    "# test\n",
    "ind = 1\n",
    "test = X_test[:20]\n",
    "xgb_model_loaded.predict(test)"
   ]
  },
  {
   "cell_type": "code",
   "execution_count": 18,
   "metadata": {},
   "outputs": [
    {
     "data": {
      "text/plain": [
       "array([1])"
      ]
     },
     "execution_count": 18,
     "metadata": {},
     "output_type": "execute_result"
    }
   ],
   "source": [
    "train_eosinophil_path = './TRAIN/EOSINOPHIL' #2497\n",
    "file_0 = os.listdir(train_eosinophil_path)[5]\n",
    "\n",
    "data = plt.imread(train_eosinophil_path + '/' + file_0)\n",
    "\n",
    "xgb_model_loaded.predict(data.reshape(1, 240*320*3))"
   ]
  }
 ],
 "metadata": {
  "kernelspec": {
   "display_name": "cc",
   "language": "python",
   "name": "python3"
  },
  "language_info": {
   "codemirror_mode": {
    "name": "ipython",
    "version": 3
   },
   "file_extension": ".py",
   "mimetype": "text/x-python",
   "name": "python",
   "nbconvert_exporter": "python",
   "pygments_lexer": "ipython3",
   "version": "3.10.13"
  }
 },
 "nbformat": 4,
 "nbformat_minor": 2
}
