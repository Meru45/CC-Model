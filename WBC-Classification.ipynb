{
 "cells": [
  {
   "cell_type": "code",
   "execution_count": 5,
   "metadata": {},
   "outputs": [],
   "source": [
    "train_eosinophil_path = './data/WBC/TRAIN/EOSINOPHIL' #2497\n",
    "train_lymphocyte_path = './data/WBC/TRAIN/LYMPHOCYTE' #2483\n",
    "train_monocyte_path = './data/WBC/TRAIN/MONOCYTE' #2478\n",
    "train_neutrophil_path = './data/WBC/TRAIN/NEUTROPHIL' #2499\n",
    "\n",
    "import os\n",
    "import matplotlib.pyplot as plt\n",
    "import numpy as np\n",
    "\n",
    "train_eosinophil = []\n",
    "train_lymphocyte = []\n",
    "train_monocyte = []\n",
    "train_neutrophil = []\n",
    "\n",
    "for file in os.listdir(train_eosinophil_path):\n",
    "    train_eosinophil.append(plt.imread(train_eosinophil_path + '/' + file))\n",
    "train_eosinophil = np.array(train_eosinophil)\n",
    "\n",
    "for file in os.listdir(train_lymphocyte_path):\n",
    "    train_lymphocyte.append(plt.imread(train_lymphocyte_path + '/' + file))\n",
    "train_lymphocyte = np.array(train_lymphocyte)\n",
    "\n",
    "for file in os.listdir(train_monocyte_path):\n",
    "    train_monocyte.append(plt.imread(train_monocyte_path + '/' + file))\n",
    "train_monocyte = np.array(train_monocyte)\n",
    "\n",
    "for file in os.listdir(train_neutrophil_path):\n",
    "    train_neutrophil.append(plt.imread(train_neutrophil_path + '/' + file))\n",
    "train_neutrophil = np.array(train_neutrophil)\n"
   ]
  },
  {
   "cell_type": "code",
   "execution_count": 6,
   "metadata": {},
   "outputs": [
    {
     "data": {
      "text/plain": [
       "((2497, 240, 320, 3),\n",
       " (2483, 240, 320, 3),\n",
       " (2478, 240, 320, 3),\n",
       " (2499, 240, 320, 3))"
      ]
     },
     "execution_count": 6,
     "metadata": {},
     "output_type": "execute_result"
    }
   ],
   "source": [
    "train_eosinophil.shape, train_lymphocyte.shape, train_monocyte.shape, train_neutrophil.shape"
   ]
  },
  {
   "cell_type": "code",
   "execution_count": 7,
   "metadata": {},
   "outputs": [],
   "source": [
    "#train_y = np.ndarray.fill(2497, 0) + np.ndarray.fill(2483, 1) + np.ndarray.fill(2478, 2) + np.ndarray.fill(2499, 3)"
   ]
  },
  {
   "cell_type": "code",
   "execution_count": 8,
   "metadata": {},
   "outputs": [
    {
     "data": {
      "text/plain": [
       "array([[0., 1., 0., 0.],\n",
       "       [0., 1., 0., 0.],\n",
       "       [0., 1., 0., 0.],\n",
       "       [0., 1., 0., 0.],\n",
       "       [0., 1., 0., 0.],\n",
       "       [0., 1., 0., 0.],\n",
       "       [0., 1., 0., 0.],\n",
       "       [0., 1., 0., 0.],\n",
       "       [0., 1., 0., 0.],\n",
       "       [0., 1., 0., 0.]])"
      ]
     },
     "execution_count": 8,
     "metadata": {},
     "output_type": "execute_result"
    }
   ],
   "source": [
    "a = np.random.rand(10, 4)\n",
    "a.fill(0)\n",
    "a[:, 1].fill(1)\n",
    "a"
   ]
  },
  {
   "cell_type": "code",
   "execution_count": 9,
   "metadata": {},
   "outputs": [
    {
     "data": {
      "text/plain": [
       "<function list.extend(iterable, /)>"
      ]
     },
     "execution_count": 9,
     "metadata": {},
     "output_type": "execute_result"
    }
   ],
   "source": [
    "train_y = [np.random.rand(2497,4), np.random.rand(2483,4), np.random.rand(2478,4), np.random.rand(2499,4)]\n",
    "train_y[0].fill(0)\n",
    "train_y[1].fill(1)\n",
    "train_y[2].fill(2)\n",
    "train_y[3].fill(3)\n",
    "empty = []\n",
    "empty.extend"
   ]
  },
  {
   "cell_type": "code",
   "execution_count": 10,
   "metadata": {},
   "outputs": [
    {
     "data": {
      "text/plain": [
       "(9957, 4)"
      ]
     },
     "execution_count": 10,
     "metadata": {},
     "output_type": "execute_result"
    }
   ],
   "source": [
    "train_y = np.random.rand(2497+2483+2478+2499, 4)\n",
    "train_y.fill(0)\n",
    "train_y[0:2497, 0] = 1\n",
    "train_y[2497:2497+2483, 1] = 1\n",
    "train_y[2497+2483:2497+2483+2478, 2] = 1\n",
    "train_y[2497+2483+2478:2497+2483+2478+2499, 3] = 1\n",
    "train_y.shape"
   ]
  },
  {
   "cell_type": "code",
   "execution_count": 11,
   "metadata": {},
   "outputs": [
    {
     "data": {
      "text/plain": [
       "(9957, 240, 320, 3)"
      ]
     },
     "execution_count": 11,
     "metadata": {},
     "output_type": "execute_result"
    }
   ],
   "source": [
    "empty = []\n",
    "empty.extend(train_eosinophil)\n",
    "empty.extend(train_lymphocyte)\n",
    "empty.extend(train_monocyte)\n",
    "empty.extend(train_neutrophil)\n",
    "train_X = np.array(empty)\n",
    "train_X.shape"
   ]
  },
  {
   "cell_type": "code",
   "execution_count": 12,
   "metadata": {},
   "outputs": [],
   "source": [
    "from xgboost import XGBClassifier\n",
    "# read data\n",
    "from sklearn.model_selection import train_test_split\n",
    "X_train, X_test, y_train, y_test = train_test_split(train_X, train_y, test_size=.2)\n",
    "# create model instance\n",
    "bst = XGBClassifier(n_estimators=2, max_depth=2, learning_rate=1, objective='binary:logistic')\n",
    "# fit model\n",
    "bst.fit(X_train[:1000], y_train[:1000])\n",
    "# make predictions\n",
    "preds = bst.predict(X_test[:100])\n",
    "preds, y_test[:100]"
   ]
  },
  {
   "cell_type": "code",
   "execution_count": null,
   "metadata": {},
   "outputs": [],
   "source": []
  }
 ],
 "metadata": {
  "kernelspec": {
   "display_name": "cc",
   "language": "python",
   "name": "python3"
  },
  "language_info": {
   "codemirror_mode": {
    "name": "ipython",
    "version": 3
   },
   "file_extension": ".py",
   "mimetype": "text/x-python",
   "name": "python",
   "nbconvert_exporter": "python",
   "pygments_lexer": "ipython3",
   "version": "3.10.13"
  }
 },
 "nbformat": 4,
 "nbformat_minor": 2
}
